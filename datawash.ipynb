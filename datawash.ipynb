{
 "cells": [
  {
   "cell_type": "code",
   "execution_count": null,
   "metadata": {},
   "outputs": [
    {
     "data": {
      "text/plain": [
       "0       11w+6\n",
       "1       15w+6\n",
       "2       20w+1\n",
       "3       22w+6\n",
       "4       13w+6\n",
       "        ...  \n",
       "1077    17w+5\n",
       "1078    11w+4\n",
       "1079    12w+4\n",
       "1080    13w+4\n",
       "1081    14w+4\n",
       "Name: 检测孕周, Length: 1082, dtype: object"
      ]
     },
     "execution_count": 2,
     "metadata": {},
     "output_type": "execute_result"
    }
   ],
   "source": [
    "import pandas as pd\n",
    "import numpy as np\n",
    "import matplotlib.pyplot as plt\n",
    "import seaborn as sns\n",
    "import os\n",
    "import re\n",
    "import string\n",
    "import re\n",
    "\n",
    "df = pd.read_excel('data\\data.xlsx')\n",
    "\n",
    "row = df['检测孕周']\n",
    "\n",
    "row"
   ]
  },
  {
   "cell_type": "code",
   "execution_count": null,
   "id": "7848fc94",
   "metadata": {},
   "outputs": [
    {
     "name": "stdout",
     "output_type": "stream",
     "text": [
      "'16W+1' 格式不匹配\n"
     ]
    }
   ],
   "source": [
    "pattern = r'^(\\d+)[wW](?:\\+(\\d+))?$'\n",
    "regex = re.compile(pattern)\n",
    "\n",
    "\n",
    "result = []\n",
    "\n",
    "# 遍历数据并提取数字\n",
    "for item in row:\n",
    "    match = regex.match(item)\n",
    "    if match:\n",
    "        weeks = match.group(1)  # 提取周数\n",
    "        days = match.group(2)   # 提取天数（可能为None）\n",
    "        \n",
    "        # 处理天数为空的情况\n",
    "        days_str = days if days is not None else \"0\"\n",
    "        \n",
    "        # print(f\"'{item}' -> 周数: {weeks}, 天数: {days_str}\")\n",
    "\n",
    "        result.append(int(weeks) * 7 + int(days_str))\n",
    "    else:\n",
    "        print(f\"'{item}' 格式不匹配\")\n",
    "\n",
    "new_row = pd.Series(result)\n",
    "\n",
    "df['检测孕周'] = new_row\n",
    "\n",
    "df.to_csv(r'C:\\Users\\32019\\Desktop\\grade_3\\CUMCM\\CUMCM2025Problems\\data\\output.csv',\n",
    "          index=False,        # 不导出行索引\n",
    "          encoding='utf-8-sig',  # 含中文建议用 utf-8-sig，Excel 打开不乱码\n",
    "          sep=',' ) "
   ]
  }
 ],
 "metadata": {
  "kernelspec": {
   "display_name": "base",
   "language": "python",
   "name": "python3"
  },
  "language_info": {
   "codemirror_mode": {
    "name": "ipython",
    "version": 3
   },
   "file_extension": ".py",
   "mimetype": "text/x-python",
   "name": "python",
   "nbconvert_exporter": "python",
   "pygments_lexer": "ipython3",
   "version": "3.9.19"
  }
 },
 "nbformat": 4,
 "nbformat_minor": 5
}
