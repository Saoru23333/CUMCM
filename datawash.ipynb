{
 "cells": [
  {
   "cell_type": "code",
   "execution_count": 1,
   "metadata": {},
   "outputs": [
    {
     "data": {
      "text/plain": [
       "0      13w+5\n",
       "1      17w+1\n",
       "2      19w+6\n",
       "3        23w\n",
       "4      12w+5\n",
       "       ...  \n",
       "600    23w+1\n",
       "601      15w\n",
       "602    15w+4\n",
       "603    19w+4\n",
       "604    23w+2\n",
       "Name: 检测孕周, Length: 605, dtype: object"
      ]
     },
     "execution_count": 1,
     "metadata": {},
     "output_type": "execute_result"
    }
   ],
   "source": [
    "import pandas as pd\n",
    "import numpy as np\n",
    "import matplotlib.pyplot as plt\n",
    "import seaborn as sns\n",
    "import os\n",
    "import re\n",
    "import string\n",
    "import re\n",
    "\n",
    "df = pd.read_excel('data/data.xlsx', sheet_name='女胎检测数据')\n",
    "\n",
    "row = df['检测孕周']\n",
    "\n",
    "row"
   ]
  },
  {
   "cell_type": "code",
   "execution_count": 2,
   "id": "7848fc94",
   "metadata": {},
   "outputs": [],
   "source": [
    "pattern = r'^(\\d+)[wW](?:\\+(\\d+))?$'\n",
    "regex = re.compile(pattern)\n",
    "\n",
    "\n",
    "result = []\n",
    "\n",
    "# 遍历数据并提取数字\n",
    "for item in row:\n",
    "    match = regex.match(item)\n",
    "    if match:\n",
    "        weeks = match.group(1)  # 提取周数\n",
    "        days = match.group(2)   # 提取天数（可能为None）\n",
    "        \n",
    "        # 处理天数为空的情况\n",
    "        days_str = days if days is not None else \"0\"\n",
    "        \n",
    "        # print(f\"'{item}' -> 周数: {weeks}, 天数: {days_str}\")\n",
    "\n",
    "        result.append(int(weeks) * 7 + int(days_str))\n",
    "    else:\n",
    "        print(f\"'{item}' 格式不匹配\")\n",
    "\n",
    "new_row = pd.Series(result)\n",
    "\n",
    "df['检测孕周'] = new_row\n",
    "\n",
    "df.to_csv(r'data/output1.csv',\n",
    "          index=False,        # 不导出行索引\n",
    "          encoding='utf-8-sig',  # 含中文建议用 utf-8-sig，Excel 打开不乱码\n",
    "          sep=',' ) "
   ]
  },
  {
   "cell_type": "code",
   "execution_count": null,
   "id": "014f7780",
   "metadata": {},
   "outputs": [],
   "source": []
  }
 ],
 "metadata": {
  "kernelspec": {
   "display_name": "base",
   "language": "python",
   "name": "python3"
  },
  "language_info": {
   "codemirror_mode": {
    "name": "ipython",
    "version": 3
   },
   "file_extension": ".py",
   "mimetype": "text/x-python",
   "name": "python",
   "nbconvert_exporter": "python",
   "pygments_lexer": "ipython3",
   "version": "3.12.9"
  }
 },
 "nbformat": 4,
 "nbformat_minor": 5
}
